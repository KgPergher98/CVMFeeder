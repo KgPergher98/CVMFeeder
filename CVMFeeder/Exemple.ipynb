{
 "cells": [
  {
   "cell_type": "markdown",
   "metadata": {},
   "source": [
    "## Extração de Documentos Estruturados e Não-Estruturados\n",
    "### Kevin Pergher, 17 de Abril de 2024"
   ]
  },
  {
   "cell_type": "code",
   "execution_count": null,
   "metadata": {},
   "outputs": [],
   "source": [
    "from CVMFeeder import CVM\n",
    "import warnings\n",
    "import datetime\n",
    "\n",
    "warnings.filterwarnings(\"ignore\")\n",
    "\n",
    "%load_ext autoreload\n",
    "%autoreload 2"
   ]
  },
  {
   "cell_type": "markdown",
   "metadata": {},
   "source": [
    "#### get_cvm_categories()\n",
    "- Extrai as categorias de documentos CVM\n",
    "\n",
    "#### get_cvm_codes()\n",
    "- Extrai os códigos CVM, seu registro e o nome da empresa correspondente"
   ]
  },
  {
   "cell_type": "code",
   "execution_count": null,
   "metadata": {},
   "outputs": [],
   "source": [
    "categories = CVM().get_cvm_categories()\n",
    "codigos = CVM().get_cvm_codes()\n",
    "\n",
    "display(categories.head(2))\n",
    "display(codigos.head(2))"
   ]
  },
  {
   "cell_type": "markdown",
   "metadata": {},
   "source": [
    "Selecione o código de uma empresa de interesse, ex.: 3R Petróleo"
   ]
  },
  {
   "cell_type": "code",
   "execution_count": null,
   "metadata": {},
   "outputs": [],
   "source": [
    "rrrp = codigos[codigos.firm_name.str.startswith(\"3R PETRO\")]\n",
    "rrrp"
   ]
  },
  {
   "cell_type": "markdown",
   "metadata": {},
   "source": [
    "#### cvm_history()\n",
    "- Extraia o histórico documentos contábeis estruturados da empresa usando os códigos estruturados\n",
    "\n",
    "#### get_reports()\n",
    "- Extraia os documentos contábeis estruturados"
   ]
  },
  {
   "cell_type": "code",
   "execution_count": null,
   "metadata": {},
   "outputs": [],
   "source": [
    "docs = CVM().cvm_history(cvm_code = rrrp.cvm.iloc[0], documents = categories.code[categories.doc_type == \"estruturados\"].tolist(), start_date = datetime.date(1995,12,31))\n",
    "docs"
   ]
  },
  {
   "cell_type": "code",
   "execution_count": null,
   "metadata": {},
   "outputs": [],
   "source": [
    "CVM().get_reports(docs = docs)"
   ]
  },
  {
   "cell_type": "markdown",
   "metadata": {},
   "source": [
    "#### cvm_history()\n",
    "- Extraia o histórico documentos gerais da empresa usando os códigos estruturados\n",
    "\n",
    "#### get_documents()\n",
    "- Extraia os documentos não-estruturados"
   ]
  },
  {
   "cell_type": "code",
   "execution_count": null,
   "metadata": {},
   "outputs": [],
   "source": [
    "docs = CVM().cvm_history(cvm_code = rrrp, documents = categories.code[categories.doc_type == \"eventuais\"].tolist(), start_date = datetime.date(2024,4,1))\n",
    "docs"
   ]
  },
  {
   "cell_type": "code",
   "execution_count": null,
   "metadata": {},
   "outputs": [],
   "source": [
    "CVM().get_documents(docs)"
   ]
  }
 ],
 "metadata": {
  "kernelspec": {
   "display_name": "Python 3",
   "language": "python",
   "name": "python3"
  },
  "language_info": {
   "codemirror_mode": {
    "name": "ipython",
    "version": 3
   },
   "file_extension": ".py",
   "mimetype": "text/x-python",
   "name": "python",
   "nbconvert_exporter": "python",
   "pygments_lexer": "ipython3",
   "version": "3.10.10"
  }
 },
 "nbformat": 4,
 "nbformat_minor": 2
}
